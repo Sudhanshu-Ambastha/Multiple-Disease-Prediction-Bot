{
 "cells": [
  {
   "cell_type": "code",
   "execution_count": 1,
   "id": "3e0aed0b",
   "metadata": {},
   "outputs": [],
   "source": [
    "import pandas as pd\n",
    "from sklearn.preprocessing import LabelEncoder\n",
    "import joblib"
   ]
  },
  {
   "cell_type": "code",
   "execution_count": 2,
   "id": "03a31de1",
   "metadata": {},
   "outputs": [
    {
     "name": "stdout",
     "output_type": "stream",
     "text": [
      "LabelEncoder fitted to 'prognosis' and saved to 'label_encoder.sav'\n"
     ]
    }
   ],
   "source": [
    "DATA_PATH = \"./Training.csv\"  \n",
    "\n",
    "try:\n",
    "    train_data = pd.read_csv(DATA_PATH)\n",
    "\n",
    "    if 'prognosis' not in train_data.columns:\n",
    "        raise ValueError(\"The 'prognosis' column was not found in the training data.\")\n",
    "\n",
    "    encoder = LabelEncoder()\n",
    "\n",
    "    encoder.fit(train_data['prognosis'])\n",
    "\n",
    "    LABEL_ENCODER_PATH = 'label_encoder.sav'\n",
    "    joblib.dump(encoder, LABEL_ENCODER_PATH)\n",
    "\n",
    "    print(f\"LabelEncoder fitted to 'prognosis' and saved to '{LABEL_ENCODER_PATH}'\")\n",
    "\n",
    "except FileNotFoundError:\n",
    "    print(f\"Error: Training data file not found at '{DATA_PATH}'\")\n",
    "except ValueError as ve:\n",
    "    print(f\"Error: {ve}\")\n",
    "except Exception as e:\n",
    "    print(f\"An unexpected error occurred: {e}\")"
   ]
  }
 ],
 "metadata": {
  "kernelspec": {
   "display_name": "Python 3",
   "language": "python",
   "name": "python3"
  },
  "language_info": {
   "codemirror_mode": {
    "name": "ipython",
    "version": 3
   },
   "file_extension": ".py",
   "mimetype": "text/x-python",
   "name": "python",
   "nbconvert_exporter": "python",
   "pygments_lexer": "ipython3",
   "version": "3.13.2"
  }
 },
 "nbformat": 4,
 "nbformat_minor": 5
}
