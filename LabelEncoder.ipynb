{
  "nbformat": 4,
  "nbformat_minor": 0,
  "metadata": {
    "colab": {
      "provenance": [],
      "authorship_tag": "ABX9TyOqKYxZ46YB+SzvOfmixKYD",
      "include_colab_link": true
    },
    "kernelspec": {
      "name": "python3",
      "display_name": "Python 3"
    },
    "language_info": {
      "name": "python"
    }
  },
  "cells": [
    {
      "cell_type": "markdown",
      "metadata": {
        "id": "view-in-github",
        "colab_type": "text"
      },
      "source": [
        "<a href=\"https://colab.research.google.com/github/Sudhanshu-Ambastha/Multiple-Disease-Prediction-Bot/blob/main/LabelEncoder.ipynb\" target=\"_parent\"><img src=\"https://colab.research.google.com/assets/colab-badge.svg\" alt=\"Open In Colab\"/></a>"
      ]
    },
    {
      "cell_type": "code",
      "execution_count": null,
      "metadata": {
        "id": "jJ3RQtnUd8jW"
      },
      "outputs": [],
      "source": [
        "import pandas as pd\n",
        "from sklearn.preprocessing import LabelEncoder\n",
        "import joblib"
      ]
    },
    {
      "cell_type": "code",
      "source": [
        "DATA_PATH = \"./Training.csv\"\n",
        "\n",
        "try:\n",
        "    train_data = pd.read_csv(DATA_PATH)\n",
        "\n",
        "    if 'prognosis' not in train_data.columns:\n",
        "        raise ValueError(\"The 'prognosis' column was not found in the training data.\")\n",
        "\n",
        "    encoder = LabelEncoder()\n",
        "\n",
        "    encoder.fit(train_data['prognosis'])\n",
        "\n",
        "    LABEL_ENCODER_PATH = 'label_encoder.sav'\n",
        "    joblib.dump(encoder, LABEL_ENCODER_PATH)\n",
        "\n",
        "    print(f\"LabelEncoder fitted to 'prognosis' and saved to '{LABEL_ENCODER_PATH}'\")\n",
        "\n",
        "except FileNotFoundError:\n",
        "    print(f\"Error: Training data file not found at '{DATA_PATH}'\")\n",
        "except ValueError as ve:\n",
        "    print(f\"Error: {ve}\")\n",
        "except Exception as e:\n",
        "    print(f\"An unexpected error occurred: {e}\")"
      ],
      "metadata": {
        "id": "rHqEdYKDeCdf"
      },
      "execution_count": null,
      "outputs": []
    }
  ]
}